{
 "metadata": {
  "language_info": {
   "codemirror_mode": {
    "name": "ipython",
    "version": 3
   },
   "file_extension": ".py",
   "mimetype": "text/x-python",
   "name": "python",
   "nbconvert_exporter": "python",
   "pygments_lexer": "ipython3",
   "version": "3.7.7-final"
  },
  "orig_nbformat": 2,
  "kernelspec": {
   "name": "python377jvsc74a57bd098b0a9b7b4eaaa670588a142fd0a9b87eaafe866f1db4228be72b4211d12040f",
   "display_name": "Python 3.7.7 64-bit ('base': conda)"
  }
 },
 "nbformat": 4,
 "nbformat_minor": 2,
 "cells": [
  {
   "cell_type": "code",
   "execution_count": 36,
   "metadata": {},
   "outputs": [],
   "source": [
    "import os\n",
    "import time\n",
    "from glob import glob\n",
    "import sys\n",
    "from tqdm import tqdm\n",
    "import pandas as pd\n",
    "import numpy as np\n",
    "import torch\n",
    "from torch.utils.data import Dataset, DataLoader\n",
    "from transformers import AutoModel, AutoTokenizer, BertTokenizer\n",
    "\n",
    "sys.path.insert(0, '../')\n",
    "from config import Config"
   ]
  },
  {
   "cell_type": "code",
   "execution_count": 20,
   "metadata": {},
   "outputs": [],
   "source": [
    "fpath = '../data/chatbot_data.txt'\n",
    "data = pd.read_csv(fpath)\n",
    "data.head(3)\n",
    "\n",
    "questions = data['Q'].tolist()\n",
    "answers = data['A'].tolist()"
   ]
  },
  {
   "source": [
    "답변에 대한 CLS 벡터는 사전에 계산해둬야 하는걸까?"
   ],
   "cell_type": "markdown",
   "metadata": {}
  },
  {
   "cell_type": "code",
   "execution_count": 18,
   "metadata": {},
   "outputs": [],
   "source": [
    "model = AutoModel.from_pretrained(Config.BERTMultiLingual)\n",
    "model.cuda()\n",
    "tokenizer = AutoTokenizer.from_pretrained(Config.BERTMultiLingual)\n",
    "\n",
    "def tokenize_cuda(x):\n",
    "    x = tokenizer(x, return_tensors='pt')\n",
    "    x['input_ids'] = x['input_ids'].cuda()\n",
    "    x['token_type_ids'] = x['token_type_ids'].cuda()\n",
    "    x['attention_mask'] = x['attention_mask'].cuda()\n",
    "    return x\n",
    "\n",
    "# def apply_similarity(x):"
   ]
  },
  {
   "cell_type": "code",
   "execution_count": null,
   "metadata": {},
   "outputs": [],
   "source": [
    "cos = nn.CosineSimilarity(dim=1, eps=1e-6)"
   ]
  },
  {
   "cell_type": "code",
   "execution_count": 21,
   "metadata": {},
   "outputs": [
    {
     "output_type": "stream",
     "name": "stdout",
     "text": [
      "Time Spent 2.488912343978882\n"
     ]
    }
   ],
   "source": [
    "start = time.time()\n",
    "\n",
    "questions = list(map(lambda x: tokenize_cuda(x), questions))\n",
    "# questions = map(lambda x: tokenizer(x, return_tensors='pt'), questions)\n",
    "\n",
    "print('Time Spent', time.time() - start)"
   ]
  },
  {
   "cell_type": "code",
   "execution_count": 16,
   "metadata": {},
   "outputs": [],
   "source": [
    "for q in questions:\n",
    "    break"
   ]
  },
  {
   "cell_type": "code",
   "execution_count": 24,
   "metadata": {},
   "outputs": [
    {
     "output_type": "execute_result",
     "data": {
      "text/plain": [
       "{'input_ids': tensor([[  101, 10186, 14040,   100,   106,   102]], device='cuda:0'), 'token_type_ids': tensor([[0, 0, 0, 0, 0, 0]], device='cuda:0'), 'attention_mask': tensor([[1, 1, 1, 1, 1, 1]], device='cuda:0')}"
      ]
     },
     "metadata": {},
     "execution_count": 24
    }
   ],
   "source": [
    "questions[0]"
   ]
  },
  {
   "cell_type": "code",
   "execution_count": 37,
   "metadata": {},
   "outputs": [
    {
     "output_type": "stream",
     "name": "stderr",
     "text": [
      "100%|██████████| 11823/11823 [02:51<00:00, 68.89it/s]\n"
     ]
    }
   ],
   "source": [
    "question_embeddings = []\n",
    "\n",
    "for q in tqdm(questions):\n",
    "    question_embeddings.append(model(**q).pooler_output.cpu().detach().numpy())"
   ]
  }
 ]
}